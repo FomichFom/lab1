Задача 1
Написать функцию на вход которой подается строка, состоящая из латинских букв. Функция должна вернуть количество гласных букв (a, e, i, o, u) в этой строке. Написать тесты для кода

[ ]
def read(string):
    sum = 0
    tuple =('a', 'e', 'i', 'o', 'u')
    for l in string:
        for elem in tuple:
            if l == elem:
                sum += 1
    return sum

def Test(Input, ref):
    ans = read(Input)
    print('Given string:', Input)
    print('Vovels =', ref, '; ','Calculated =', ans)
    if ans == ref:
        print('Test succsessful!')
    else:
        print('Test failed!')
    print()

Test('example text', 4)
Test('fkodljdfdhfuewhljfhnabkjvcbdi', 5)
Test('sdk clm', 0)
Given string: example text
Vovels = 4 ;  Calculated = 4
Test succsessful!

Given string: fkodljdfdhfuewhljfhnabkjvcbdi
Vovels = 5 ;  Calculated = 5
Test succsessful!

Given string: sdk clm
Vovels = 0 ;  Calculated = 0
Test succsessful!

Задача 2
Написать функцию на вход, которой подается строка. Функция должна вернуть true, если каждый символ в строке встречается только 1 раз, иначе должна вернуть false. Написать тесты для кода

[ ]
def read(string):
    duplicate = True
    for i in range(len(string)):
        for j in range(i+1, len(string)):
            if string[i] == string[j]:
                duplicate = False
                break
        if duplicate == False:
            break
    return duplicate

def Test(Input, ref):
    ans = read(Input)
    print('Given string:', Input)
    print('Duplicates =', ref, '; ','Calculated =', ans)
    assert ans == ref, 'TEST FAILED'
    print('---------')

Test('example text', False)
Test('abcdefghijklmnopqrstuvwxyz', True)
Test('sdk clm', True)
Test('', True)
Test('afand', False)
Given string: example text
Duplicates = False ;  Calculated = False
---------
Given string: abcdefghijklmnopqrstuvwxyz
Duplicates = True ;  Calculated = True
---------
Given string: sdk clm
Duplicates = True ;  Calculated = True
---------
Given string: 
Duplicates = True ;  Calculated = True
---------
Given string: afand
Duplicates = False ;  Calculated = False
---------
Задача 3
Написать функцию, которая принимает положительное число и возвращает количество бит равных 1 в этом числе. Написать тесты для кода

[ ]
def ByteCount(Num):
    assert Num >= 0, 'INPUT MUST BE POSITIVE'
    sum = 0
    for byte in bin(Num):
        if byte == '1':
            sum += 1

    return sum

def Test(Input, ref):
    ans = ByteCount(Input)
    print('Given number:', Input, ' ', 'Byte form: ', bin(Input))
    print('Positive bytes =', ref, '; ','Calculated positive bytes =', ans)
    assert ans == ref, 'TEST FAILED'
    print('---------')

Test(4, 1)
Test(65, 2)
Test(3, 2)
Test(7, 3)
Test(0, 0)
Given number: 4   Byte form:  0b100
Positive bytes = 1 ;  Calculated positive bytes = 1
---------
Given number: 65   Byte form:  0b1000001
Positive bytes = 2 ;  Calculated positive bytes = 2
---------
Given number: 3   Byte form:  0b11
Positive bytes = 2 ;  Calculated positive bytes = 2
---------
Given number: 7   Byte form:  0b111
Positive bytes = 3 ;  Calculated positive bytes = 3
---------
Given number: 0   Byte form:  0b0
Positive bytes = 0 ;  Calculated positive bytes = 0
---------
Задача 4
Написать функцию, которая принимает положительное число. Функция должна вернуть то, сколько раз необходимо перемножать цифры числа или результат перемножения, чтобы получилось число состоящее из одной цифры. Например, для входного числа: · 39 функция должна вернуть 3, так как 39=27 => 27=14 => 14=4 · 4 функция должна вернуть 0, так как число уже состоит из одной цифры · 999 функция должна вернуть 4, так как 999=729 => 729=126 => 126=12 => 12=2. Написать тесты для кода

[ ]
def magic(n):
    assert n >= 0, 'INPUT MUST BE POSITIVE'

    counter = 0
    while n > 9:
        n = str(n)
        prod = 1

        for elem in n:
            prod *= int(elem)

        n = prod
        counter += 1

    return counter

def Test(Input, ref):

    ans = magic(Input)
    print('Given number:', Input)
    print('Times to multiply =', ref, '; ','Calculated times to multiply =', ans)
    assert ans == ref, 'TEST FAILED'
    print('---------')

Test(39, 3)
Test(4, 0)
Test(999, 4)
Test(9397, 2)
Given number: 39
Times to multiply = 3 ;  Calculated times to multiply = 3
---------
Given number: 4
Times to multiply = 0 ;  Calculated times to multiply = 0
---------
Given number: 999
Times to multiply = 4 ;  Calculated times to multiply = 4
---------
Given number: 9397
Times to multiply = 2 ;  Calculated times to multiply = 2
---------
Задача 5
Написать функцию, которая принимает два целочисленных вектора одинаковой длины и возвращает среднеквадратическое отклонение двух векторов. Написать тесты для кода

[ ]
def mse(pred, true):

    assert len(pred) == len(true), 'VECTORS MUST BE SAME SIZE'

    N = len(pred)
    sqr = 0
    mean = 0

    for i in range(N):

        sqr += (pred[i] - true[i])**2

    mean = sqr/N
    deviation = mean**0.5

    return(deviation)

print(mse([1, 2, 3, 4], [2, 3, 4, 5]))

assert mse([1, 2, 3, 4], [2, 3, 4, 5]) == 1, "TEST FAILED"
1.0
Задача 6
Написать функцию, принимающая целое положительное число. Функция должна вернуть строку вида “(n1p1)(n2p2)…(nkpk)” представляющая разложение числа на простые множители (если pi == 1, то выводить только ni). Например, для числа 86240 функция должна вернуть “(25)(5)(7**2)(11)”. Написать тесты для кода

[ ]
def Fact(Num):
    assert Num >= 0, 'INPUT MUST BE POSITIVE'
    output = ''

    for divisor in range(2, Num // 2 + 1):
        if Num % divisor == 0:
            p = 0

            while Num % divisor == 0:
                Num = Num / divisor
                p += 1

            if p == 1:
                output += '(' + str(divisor) + ')'
            else:
                output += '(' + str(divisor) + '**' + str(p) + ')'

    if output == '':
        output += str(Num)

    return(output)

def Test(Input, ref):

    ans = Fact(Input)
    print('Given number:', Input)
    print('Factorization =', ref, '; ','Calculated factorization =', ans)
    assert ans == ref, 'TEST FAILED'
    print('---------')

Test(86240, '(2**5)(5)(7**2)(11)')
Test(0, '0')
Test(42069, '(3)(37)(379)')
Test(743, '743')
Test(758, '(2)(379)')
Given number: 86240
Factorization = (2**5)(5)(7**2)(11) ;  Calculated factorization = (2**5)(5)(7**2)(11)
---------
Given number: 0
Factorization = 0 ;  Calculated factorization = 0
---------
Given number: 42069
Factorization = (3)(37)(379) ;  Calculated factorization = (3)(37)(379)
---------
Given number: 743
Factorization = 743 ;  Calculated factorization = 743
---------
Given number: 758
Factorization = (2)(379) ;  Calculated factorization = (2)(379)
---------
Задача 7
Написать функцию, принимающая целое число n, задающее количество кубиков. Функция должна определить, можно ли из данного кол-ва кубиков построить пирамиду, то есть можно ли представить число n как 1^2+2^2+3^2+…+k^2. Если можно, то функция должна вернуть k, иначе строку “It is impossible”. Написать тесты для кода

[ ]
def Pyramid(number):
    assert number >= 0, 'INPUT MUST BE POSITIVE'
    k = 0

    while number >= 1:
        k += 1
        number -= k**2

    if number == 0 and k > 0:
        return k
    else:
        return('It is impossible')

def Test(Input, ref):

    ans = Pyramid(Input)
    print('Given number:', Input)
    print('Pyramid height =', ref, '; ','Program output =', ans)
    assert ans == ref, 'TEST FAILED'
    print('---------')

Test(5, 2)
Test(0, 'It is impossible')
Test(6, 'It is impossible')
Test(14, 3)
Given number: 5
Pyramid height = 2 ;  Program output = 2
---------
Given number: 0
Pyramid height = It is impossible ;  Program output = It is impossible
---------
Given number: 6
Pyramid height = It is impossible ;  Program output = It is impossible
---------
Given number: 14
Pyramid height = 3 ;  Program output = 3
---------
Задача 8
Функция принимает на вход положительное число и определяет является ли оно сбалансированным, т.е. сумма цифр до средних равна сумме цифр после. Средними в случае нечетного числа цифр считать одну цифру, в случае четного - две средних. Написать тесты для кода

[ ]
def IsBalan(num):
    assert num >= 0, 'INPUT MUST BE POSITIVE'
    num = str(num)
    sum = 0

    if len(num) % 2 == 0:
        middle = int(len(num) / 2) - 1
    else:
        middle = int(len(num) / 2) + 1


Given number: 1
Balanced = True ;  Calculated balance = True
...............................
Given number: 464
Balanced = True ;  Calculated balance = True
...............................
Given number: 4564
Balanced = True ;  Calculated balance = True
...............................
Given number: 2564
Balanced = False ;  Calculated balance = False
...............................
Given number: 12530
Balanced = True ;  Calculated balance = True
...............................
Given number: 1234567164352
Balanced = True ;  Calculated balance = True
...............................
